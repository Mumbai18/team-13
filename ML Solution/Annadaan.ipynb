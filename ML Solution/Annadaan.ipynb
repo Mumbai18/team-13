{
 "cells": [
  {
   "cell_type": "code",
   "execution_count": 39,
   "metadata": {
    "scrolled": true
   },
   "outputs": [],
   "source": [
    "# Imports\n",
    "import numpy as np\n",
    "import pandas as pd\n",
    "import matplotlib.pyplot as plt\n",
    "from sklearn.cluster import KMeans\n",
    "from sklearn import preprocessing\n",
    "from sklearn import datasets, linear_model"
   ]
  },
  {
   "cell_type": "code",
   "execution_count": 40,
   "metadata": {},
   "outputs": [],
   "source": [
    "## Reading Data From XML\n",
    "df = pd.read_excel('data.xlsx')\n",
    "df.head()\n",
    "X = preprocessing.scale(df)"
   ]
  },
  {
   "cell_type": "code",
   "execution_count": 41,
   "metadata": {},
   "outputs": [
    {
     "data": {
      "text/plain": [
       "KMeans(algorithm='auto', copy_x=True, init='k-means++', max_iter=300,\n",
       "    n_clusters=2, n_init=10, n_jobs=1, precompute_distances='auto',\n",
       "    random_state=None, tol=0.0001, verbose=0)"
      ]
     },
     "execution_count": 41,
     "metadata": {},
     "output_type": "execute_result"
    }
   ],
   "source": [
    "### Applying a clustering algorithm\n",
    "clf = KMeans(n_clusters=2)\n",
    "clf.fit(X)"
   ]
  },
  {
   "cell_type": "code",
   "execution_count": 42,
   "metadata": {},
   "outputs": [
    {
     "name": "stdout",
     "output_type": "stream",
     "text": [
      "[[ 0.16257322  0.40025282 -0.75047877  1.15233192  1.3764944 ]\n",
      " [-0.05419107 -0.13341761  0.25015959 -0.38411064 -0.45883147]]\n"
     ]
    }
   ],
   "source": [
    "### Found the centrois i.e. donors and potential Volunteers\n",
    "centroids = clf.cluster_centers_\n",
    "labels = clf.labels_\n",
    "print(centroids)"
   ]
  },
  {
   "cell_type": "code",
   "execution_count": 43,
   "metadata": {},
   "outputs": [
    {
     "data": {
      "image/png": "[encoded data removed]",
      "text/plain": [
       "<Figure size 432x288 with 1 Axes>"
      ]
     },
     "metadata": {},
     "output_type": "display_data"
    }
   ],
   "source": [
    "### PLotting the data\n",
    "colors = 10*[\"g.\",\"r.\",\"c.\",\"b.\",\"k.\"]\n",
    "\n",
    "for i in range(len(X)):\n",
    "    plt.plot(X[i][0],X[i][1], colors[labels[i]],markersize=25)\n",
    "\n",
    "plt.scatter(centroids[:,0],centroids[:,1],marker='x')\n",
    "plt.show()"
   ]
  },
  {
   "cell_type": "code",
   "execution_count": null,
   "metadata": {},
   "outputs": [],
   "source": [
    "X = df['avail']   #Availbility of number of hours\n",
    "Y = df['amount'] #Aount of food(in number persons)\n",
    "predict = df['predict']\n",
    "\n",
    "#X1 = preprocessing.scale(availblity)\n",
    "#X2 = preprocessing.scale(amountOfFood)\n",
    "\n",
    "# Create linear regression object\n",
    "regr = linear_model.LinearRegression()\n",
    "\n",
    "regr.fit(X,Y)\n",
    "op = reg.predict(predict)\n",
    "op"
   ]
  }
 ],
 "metadata": {
  "kernelspec": {
   "display_name": "Python 3",
   "language": "python",
   "name": "python3"
  },
  "language_info": {
   "codemirror_mode": {
    "name": "ipython",
    "version": 3
   },
   "file_extension": ".py",
   "mimetype": "text/x-python",
   "name": "python",
   "nbconvert_exporter": "python",
   "pygments_lexer": "ipython3",
   "version": "3.6.6"
  }
 },
 "nbformat": 4,
 "nbformat_minor": 2
}
